{
  "nbformat": 4,
  "nbformat_minor": 0,
  "metadata": {
    "colab": {
      "provenance": [],
      "authorship_tag": "ABX9TyNMkRnEu7h0Wa2IJ7O8fmZU",
      "include_colab_link": true
    },
    "kernelspec": {
      "name": "python3",
      "display_name": "Python 3"
    },
    "language_info": {
      "name": "python"
    }
  },
  "cells": [
    {
      "cell_type": "markdown",
      "metadata": {
        "id": "view-in-github",
        "colab_type": "text"
      },
      "source": [
        "<a href=\"https://colab.research.google.com/github/nidhics/AI_ML_EX/blob/main/RAG_Example.ipynb\" target=\"_parent\"><img src=\"https://colab.research.google.com/assets/colab-badge.svg\" alt=\"Open In Colab\"/></a>"
      ]
    },
    {
      "cell_type": "code",
      "execution_count": null,
      "metadata": {
        "collapsed": true,
        "id": "Ru0EoSDVqtKF"
      },
      "outputs": [],
      "source": [
        "!pip install langchain-community langchainhub chromadb langchain langchain-openai"
      ]
    },
    {
      "cell_type": "code",
      "source": [
        "from google.colab import userdata\n",
        "import os\n",
        "os.environ['rag_key'] = userdata.get('rag_key')"
      ],
      "metadata": {
        "id": "jg8bDT5hxYX0"
      },
      "execution_count": 1,
      "outputs": []
    },
    {
      "cell_type": "code",
      "source": [
        "from langchain_community.document_loaders import WebBaseLoader\n",
        "loader= WebBaseLoader(web_path=[\"http://books.toscrape.com/catalogue/category/books/spirituality_39/index.html\"])\n",
        "docs=loader.load\n",
        "print(docs)"
      ],
      "metadata": {
        "colab": {
          "base_uri": "https://localhost:8080/"
        },
        "id": "9S_0dbhpx15v",
        "outputId": "039c8dea-859b-411b-d93e-b08160875a44"
      },
      "execution_count": 2,
      "outputs": [
        {
          "output_type": "stream",
          "name": "stderr",
          "text": [
            "WARNING:langchain_community.utils.user_agent:USER_AGENT environment variable not set, consider setting it to identify your requests.\n"
          ]
        },
        {
          "output_type": "stream",
          "name": "stdout",
          "text": [
            "<bound method BaseLoader.load of <langchain_community.document_loaders.web_base.WebBaseLoader object at 0x79775f77bf50>>\n"
          ]
        }
      ]
    }
  ]
}